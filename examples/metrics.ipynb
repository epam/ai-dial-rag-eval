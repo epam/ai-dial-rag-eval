{
 "cells": [
  {
   "cell_type": "code",
   "execution_count": 1,
   "metadata": {
    "scrolled": true
   },
   "outputs": [],
   "source": [
    "# !pip install s3fs\n",
    "# !pip install ../dist/aidial_rag_eval-0.1.0-py3-none-any.whl"
   ]
  },
  {
   "cell_type": "code",
   "execution_count": 2,
   "metadata": {},
   "outputs": [
    {
     "name": "stderr",
     "output_type": "stream",
     "text": [
      "/mnt/c/Users/Mikalai_Pechaneu/Work/dial-rag-eval/nli-branch-new/dial-rag-eval/src/aidial_rag_eval/generation/utils/progress_bar.py:5: TqdmWarning: IProgress not found. Please update jupyter and ipywidgets. See https://ipywidgets.readthedocs.io/en/stable/user_install.html\n",
      "  from tqdm.autonotebook import tqdm\n"
     ]
    }
   ],
   "source": [
    "import json\n",
    "import pandas as pd\n",
    "from aidial_rag_eval.evaluate import evaluate"
   ]
  },
  {
   "cell_type": "code",
   "execution_count": 3,
   "metadata": {},
   "outputs": [],
   "source": [
    "ground_truth = \"./example_parquets/ground_truth.parquet\"\n",
    "answers = \"./example_parquets/answer.parquet\"\n",
    "metrics = \"./example_parquets/metrics.parquet\""
   ]
  },
  {
   "cell_type": "code",
   "execution_count": 4,
   "metadata": {
    "scrolled": true
   },
   "outputs": [
    {
     "data": {
      "text/html": [
       "<div>\n",
       "<style scoped>\n",
       "    .dataframe tbody tr th:only-of-type {\n",
       "        vertical-align: middle;\n",
       "    }\n",
       "\n",
       "    .dataframe tbody tr th {\n",
       "        vertical-align: top;\n",
       "    }\n",
       "\n",
       "    .dataframe thead th {\n",
       "        text-align: right;\n",
       "    }\n",
       "</style>\n",
       "<table border=\"1\" class=\"dataframe\">\n",
       "  <thead>\n",
       "    <tr style=\"text-align: right;\">\n",
       "      <th></th>\n",
       "      <th>question</th>\n",
       "      <th>documents</th>\n",
       "      <th>facts</th>\n",
       "      <th>answer</th>\n",
       "    </tr>\n",
       "  </thead>\n",
       "  <tbody>\n",
       "    <tr>\n",
       "      <th>0</th>\n",
       "      <td>Who was the first president of the United States?</td>\n",
       "      <td>[george_washington]</td>\n",
       "      <td>[George Washington was an American political l...</td>\n",
       "      <td>The first president of the United States was G...</td>\n",
       "    </tr>\n",
       "    <tr>\n",
       "      <th>1</th>\n",
       "      <td>When was Apple Inc. established and who was th...</td>\n",
       "      <td>[apple.pdf]</td>\n",
       "      <td>[Apple Inc. was established on April 1, 1976.,...</td>\n",
       "      <td>The establishment date of Apple Inc. is April ...</td>\n",
       "    </tr>\n",
       "    <tr>\n",
       "      <th>2</th>\n",
       "      <td>What is the capital city of Spain?</td>\n",
       "      <td>[spain]</td>\n",
       "      <td>[Capital city of Spain is Madrid.]</td>\n",
       "      <td>The capital city of Spain is Madrid.</td>\n",
       "    </tr>\n",
       "  </tbody>\n",
       "</table>\n",
       "</div>"
      ],
      "text/plain": [
       "                                            question            documents  \\\n",
       "0  Who was the first president of the United States?  [george_washington]   \n",
       "1  When was Apple Inc. established and who was th...          [apple.pdf]   \n",
       "2                 What is the capital city of Spain?              [spain]   \n",
       "\n",
       "                                               facts  \\\n",
       "0  [George Washington was an American political l...   \n",
       "1  [Apple Inc. was established on April 1, 1976.,...   \n",
       "2                 [Capital city of Spain is Madrid.]   \n",
       "\n",
       "                                              answer  \n",
       "0  The first president of the United States was G...  \n",
       "1  The establishment date of Apple Inc. is April ...  \n",
       "2               The capital city of Spain is Madrid.  "
      ]
     },
     "execution_count": 4,
     "metadata": {},
     "output_type": "execute_result"
    }
   ],
   "source": [
    "pd.read_parquet(ground_truth).head()"
   ]
  },
  {
   "cell_type": "code",
   "execution_count": 5,
   "metadata": {},
   "outputs": [
    {
     "data": {
      "text/html": [
       "<div>\n",
       "<style scoped>\n",
       "    .dataframe tbody tr th:only-of-type {\n",
       "        vertical-align: middle;\n",
       "    }\n",
       "\n",
       "    .dataframe tbody tr th {\n",
       "        vertical-align: top;\n",
       "    }\n",
       "\n",
       "    .dataframe thead th {\n",
       "        text-align: right;\n",
       "    }\n",
       "</style>\n",
       "<table border=\"1\" class=\"dataframe\">\n",
       "  <thead>\n",
       "    <tr style=\"text-align: right;\">\n",
       "      <th></th>\n",
       "      <th>question</th>\n",
       "      <th>documents</th>\n",
       "      <th>context</th>\n",
       "      <th>answer</th>\n",
       "    </tr>\n",
       "  </thead>\n",
       "  <tbody>\n",
       "    <tr>\n",
       "      <th>0</th>\n",
       "      <td>Who was the first president of the United States?</td>\n",
       "      <td>[george_washington]</td>\n",
       "      <td>[George Washington was an American political l...</td>\n",
       "      <td>George Washington was the first president of t...</td>\n",
       "    </tr>\n",
       "    <tr>\n",
       "      <th>1</th>\n",
       "      <td>When was Apple Inc. established and who was th...</td>\n",
       "      <td>[apple.pdf]</td>\n",
       "      <td>[Apple Inc. is an American multinational techn...</td>\n",
       "      <td>The CEO of Apple in 2020 was Tim Cook.</td>\n",
       "    </tr>\n",
       "    <tr>\n",
       "      <th>2</th>\n",
       "      <td>What is the capital city of Spain?</td>\n",
       "      <td>[spain]</td>\n",
       "      <td>[Barcelona is a city in Spain. It is the capit...</td>\n",
       "      <td>The capital city of Spain is Barcelona.</td>\n",
       "    </tr>\n",
       "  </tbody>\n",
       "</table>\n",
       "</div>"
      ],
      "text/plain": [
       "                                            question            documents  \\\n",
       "0  Who was the first president of the United States?  [george_washington]   \n",
       "1  When was Apple Inc. established and who was th...          [apple.pdf]   \n",
       "2                 What is the capital city of Spain?              [spain]   \n",
       "\n",
       "                                             context  \\\n",
       "0  [George Washington was an American political l...   \n",
       "1  [Apple Inc. is an American multinational techn...   \n",
       "2  [Barcelona is a city in Spain. It is the capit...   \n",
       "\n",
       "                                              answer  \n",
       "0  George Washington was the first president of t...  \n",
       "1             The CEO of Apple in 2020 was Tim Cook.  \n",
       "2            The capital city of Spain is Barcelona.  "
      ]
     },
     "execution_count": 5,
     "metadata": {},
     "output_type": "execute_result"
    }
   ],
   "source": [
    "pd.read_parquet(answers).head()"
   ]
  },
  {
   "cell_type": "code",
   "execution_count": 6,
   "metadata": {},
   "outputs": [
    {
     "name": "stdout",
     "output_type": "stream",
     "text": [
      "./example_parquets/metrics.parquet\n",
      "{'recall': 0.5, 'precision': 0.3333333333333333, 'mrr': 0.4166666666666667, 'f1': 0.38888888888888884}\n"
     ]
    }
   ],
   "source": [
    "metrics_dataset = evaluate(ground_truth, answers, metrics)\n",
    "print(metrics_dataset.data_path)\n",
    "print(metrics_dataset.metadata.metrics)"
   ]
  },
  {
   "cell_type": "code",
   "execution_count": 7,
   "metadata": {},
   "outputs": [
    {
     "data": {
      "text/html": [
       "<div>\n",
       "<style scoped>\n",
       "    .dataframe tbody tr th:only-of-type {\n",
       "        vertical-align: middle;\n",
       "    }\n",
       "\n",
       "    .dataframe tbody tr th {\n",
       "        vertical-align: top;\n",
       "    }\n",
       "\n",
       "    .dataframe thead th {\n",
       "        text-align: right;\n",
       "    }\n",
       "</style>\n",
       "<table border=\"1\" class=\"dataframe\">\n",
       "  <thead>\n",
       "    <tr style=\"text-align: right;\">\n",
       "      <th></th>\n",
       "      <th>question</th>\n",
       "      <th>documents</th>\n",
       "      <th>facts</th>\n",
       "      <th>ground_truth_answer</th>\n",
       "      <th>context</th>\n",
       "      <th>answer</th>\n",
       "      <th>facts_ranks</th>\n",
       "      <th>context_relevance</th>\n",
       "      <th>context_highlight</th>\n",
       "      <th>recall</th>\n",
       "      <th>precision</th>\n",
       "      <th>mrr</th>\n",
       "      <th>f1</th>\n",
       "    </tr>\n",
       "  </thead>\n",
       "  <tbody>\n",
       "    <tr>\n",
       "      <th>0</th>\n",
       "      <td>Who was the first president of the United States?</td>\n",
       "      <td>[george_washington]</td>\n",
       "      <td>[George Washington was an American political l...</td>\n",
       "      <td>The first president of the United States was G...</td>\n",
       "      <td>[George Washington was an American political l...</td>\n",
       "      <td>George Washington was the first president of t...</td>\n",
       "      <td>[0]</td>\n",
       "      <td>[1, 0]</td>\n",
       "      <td>[{\"match\": [{\"text\": \"George Washington was an...</td>\n",
       "      <td>1.0</td>\n",
       "      <td>0.5</td>\n",
       "      <td>1.00</td>\n",
       "      <td>0.666667</td>\n",
       "    </tr>\n",
       "    <tr>\n",
       "      <th>1</th>\n",
       "      <td>When was Apple Inc. established and who was th...</td>\n",
       "      <td>[apple.pdf]</td>\n",
       "      <td>[Apple Inc. was established on April 1, 1976.,...</td>\n",
       "      <td>The establishment date of Apple Inc. is April ...</td>\n",
       "      <td>[Apple Inc. is an American multinational techn...</td>\n",
       "      <td>The CEO of Apple in 2020 was Tim Cook.</td>\n",
       "      <td>[-1, 1]</td>\n",
       "      <td>[0, 1]</td>\n",
       "      <td>[{\"match\": [{\"text\": \"Apple Inc. is an America...</td>\n",
       "      <td>0.5</td>\n",
       "      <td>0.5</td>\n",
       "      <td>0.25</td>\n",
       "      <td>0.500000</td>\n",
       "    </tr>\n",
       "    <tr>\n",
       "      <th>2</th>\n",
       "      <td>What is the capital city of Spain?</td>\n",
       "      <td>[spain]</td>\n",
       "      <td>[Capital city of Spain is Madrid.]</td>\n",
       "      <td>The capital city of Spain is Madrid.</td>\n",
       "      <td>[Barcelona is a city in Spain. It is the capit...</td>\n",
       "      <td>The capital city of Spain is Barcelona.</td>\n",
       "      <td>[-1]</td>\n",
       "      <td>[0, 0]</td>\n",
       "      <td>[{\"match\": [{\"text\": \"Barcelona is a city in S...</td>\n",
       "      <td>0.0</td>\n",
       "      <td>0.0</td>\n",
       "      <td>0.00</td>\n",
       "      <td>0.000000</td>\n",
       "    </tr>\n",
       "  </tbody>\n",
       "</table>\n",
       "</div>"
      ],
      "text/plain": [
       "                                            question            documents  \\\n",
       "0  Who was the first president of the United States?  [george_washington]   \n",
       "1  When was Apple Inc. established and who was th...          [apple.pdf]   \n",
       "2                 What is the capital city of Spain?              [spain]   \n",
       "\n",
       "                                               facts  \\\n",
       "0  [George Washington was an American political l...   \n",
       "1  [Apple Inc. was established on April 1, 1976.,...   \n",
       "2                 [Capital city of Spain is Madrid.]   \n",
       "\n",
       "                                 ground_truth_answer  \\\n",
       "0  The first president of the United States was G...   \n",
       "1  The establishment date of Apple Inc. is April ...   \n",
       "2               The capital city of Spain is Madrid.   \n",
       "\n",
       "                                             context  \\\n",
       "0  [George Washington was an American political l...   \n",
       "1  [Apple Inc. is an American multinational techn...   \n",
       "2  [Barcelona is a city in Spain. It is the capit...   \n",
       "\n",
       "                                              answer facts_ranks  \\\n",
       "0  George Washington was the first president of t...         [0]   \n",
       "1             The CEO of Apple in 2020 was Tim Cook.     [-1, 1]   \n",
       "2            The capital city of Spain is Barcelona.        [-1]   \n",
       "\n",
       "  context_relevance                                  context_highlight  \\\n",
       "0            [1, 0]  [{\"match\": [{\"text\": \"George Washington was an...   \n",
       "1            [0, 1]  [{\"match\": [{\"text\": \"Apple Inc. is an America...   \n",
       "2            [0, 0]  [{\"match\": [{\"text\": \"Barcelona is a city in S...   \n",
       "\n",
       "   recall  precision   mrr        f1  \n",
       "0     1.0        0.5  1.00  0.666667  \n",
       "1     0.5        0.5  0.25  0.500000  \n",
       "2     0.0        0.0  0.00  0.000000  "
      ]
     },
     "execution_count": 7,
     "metadata": {},
     "output_type": "execute_result"
    }
   ],
   "source": [
    "metrics_df = metrics_dataset.read_dataframe()\n",
    "metrics_df.head()"
   ]
  },
  {
   "cell_type": "code",
   "execution_count": 8,
   "metadata": {},
   "outputs": [
    {
     "data": {
      "text/html": [
       "<div>\n",
       "<style scoped>\n",
       "    .dataframe tbody tr th:only-of-type {\n",
       "        vertical-align: middle;\n",
       "    }\n",
       "\n",
       "    .dataframe tbody tr th {\n",
       "        vertical-align: top;\n",
       "    }\n",
       "\n",
       "    .dataframe thead th {\n",
       "        text-align: right;\n",
       "    }\n",
       "</style>\n",
       "<table border=\"1\" class=\"dataframe\">\n",
       "  <thead>\n",
       "    <tr style=\"text-align: right;\">\n",
       "      <th></th>\n",
       "      <th>facts</th>\n",
       "      <th>context</th>\n",
       "      <th>facts_ranks</th>\n",
       "      <th>context_relevance</th>\n",
       "    </tr>\n",
       "  </thead>\n",
       "  <tbody>\n",
       "    <tr>\n",
       "      <th>0</th>\n",
       "      <td>[George Washington was an American political l...</td>\n",
       "      <td>[George Washington was an American political l...</td>\n",
       "      <td>[0]</td>\n",
       "      <td>[1, 0]</td>\n",
       "    </tr>\n",
       "    <tr>\n",
       "      <th>1</th>\n",
       "      <td>[Apple Inc. was established on April 1, 1976.,...</td>\n",
       "      <td>[Apple Inc. is an American multinational techn...</td>\n",
       "      <td>[-1, 1]</td>\n",
       "      <td>[0, 1]</td>\n",
       "    </tr>\n",
       "    <tr>\n",
       "      <th>2</th>\n",
       "      <td>[Capital city of Spain is Madrid.]</td>\n",
       "      <td>[Barcelona is a city in Spain. It is the capit...</td>\n",
       "      <td>[-1]</td>\n",
       "      <td>[0, 0]</td>\n",
       "    </tr>\n",
       "  </tbody>\n",
       "</table>\n",
       "</div>"
      ],
      "text/plain": [
       "                                               facts  \\\n",
       "0  [George Washington was an American political l...   \n",
       "1  [Apple Inc. was established on April 1, 1976.,...   \n",
       "2                 [Capital city of Spain is Madrid.]   \n",
       "\n",
       "                                             context facts_ranks  \\\n",
       "0  [George Washington was an American political l...         [0]   \n",
       "1  [Apple Inc. is an American multinational techn...     [-1, 1]   \n",
       "2  [Barcelona is a city in Spain. It is the capit...        [-1]   \n",
       "\n",
       "  context_relevance  \n",
       "0            [1, 0]  \n",
       "1            [0, 1]  \n",
       "2            [0, 0]  "
      ]
     },
     "execution_count": 8,
     "metadata": {},
     "output_type": "execute_result"
    }
   ],
   "source": [
    "metrics_df[[\"facts\", \"context\", \"facts_ranks\", \"context_relevance\"]].head()"
   ]
  },
  {
   "cell_type": "code",
   "execution_count": 9,
   "metadata": {},
   "outputs": [
    {
     "data": {
      "text/html": [
       "<div>\n",
       "<style scoped>\n",
       "    .dataframe tbody tr th:only-of-type {\n",
       "        vertical-align: middle;\n",
       "    }\n",
       "\n",
       "    .dataframe tbody tr th {\n",
       "        vertical-align: top;\n",
       "    }\n",
       "\n",
       "    .dataframe thead th {\n",
       "        text-align: right;\n",
       "    }\n",
       "</style>\n",
       "<table border=\"1\" class=\"dataframe\">\n",
       "  <thead>\n",
       "    <tr style=\"text-align: right;\">\n",
       "      <th></th>\n",
       "      <th>facts_ranks</th>\n",
       "      <th>context_relevance</th>\n",
       "      <th>recall</th>\n",
       "      <th>precision</th>\n",
       "      <th>mrr</th>\n",
       "      <th>f1</th>\n",
       "    </tr>\n",
       "  </thead>\n",
       "  <tbody>\n",
       "    <tr>\n",
       "      <th>0</th>\n",
       "      <td>[0]</td>\n",
       "      <td>[1, 0]</td>\n",
       "      <td>1.0</td>\n",
       "      <td>0.5</td>\n",
       "      <td>1.00</td>\n",
       "      <td>0.666667</td>\n",
       "    </tr>\n",
       "    <tr>\n",
       "      <th>1</th>\n",
       "      <td>[-1, 1]</td>\n",
       "      <td>[0, 1]</td>\n",
       "      <td>0.5</td>\n",
       "      <td>0.5</td>\n",
       "      <td>0.25</td>\n",
       "      <td>0.500000</td>\n",
       "    </tr>\n",
       "    <tr>\n",
       "      <th>2</th>\n",
       "      <td>[-1]</td>\n",
       "      <td>[0, 0]</td>\n",
       "      <td>0.0</td>\n",
       "      <td>0.0</td>\n",
       "      <td>0.00</td>\n",
       "      <td>0.000000</td>\n",
       "    </tr>\n",
       "  </tbody>\n",
       "</table>\n",
       "</div>"
      ],
      "text/plain": [
       "  facts_ranks context_relevance  recall  precision   mrr        f1\n",
       "0         [0]            [1, 0]     1.0        0.5  1.00  0.666667\n",
       "1     [-1, 1]            [0, 1]     0.5        0.5  0.25  0.500000\n",
       "2        [-1]            [0, 0]     0.0        0.0  0.00  0.000000"
      ]
     },
     "execution_count": 9,
     "metadata": {},
     "output_type": "execute_result"
    }
   ],
   "source": [
    "metrics_df[[\"facts_ranks\", \"context_relevance\", \"recall\", \"precision\", \"mrr\", \"f1\"]].head()"
   ]
  },
  {
   "cell_type": "code",
   "execution_count": 10,
   "metadata": {},
   "outputs": [
    {
     "name": "stdout",
     "output_type": "stream",
     "text": [
      "In 2020, the CEO of Apple was Tim Cook.\n"
     ]
    }
   ],
   "source": [
    "print(metrics_df[\"context\"].iloc[1][1])"
   ]
  },
  {
   "cell_type": "code",
   "execution_count": 11,
   "metadata": {},
   "outputs": [
    {
     "name": "stdout",
     "output_type": "stream",
     "text": [
      "{\n",
      "  \"match\": [\n",
      "    {\n",
      "      \"text\": \"In 2020, the CEO of Apple was Tim Cook.\",\n",
      "      \"facts\": [\n",
      "        1\n",
      "      ]\n",
      "    }\n",
      "  ]\n",
      "}\n"
     ]
    }
   ],
   "source": [
    "print(json.dumps(json.loads(metrics_df[\"context_highlight\"].iloc[1][1]), indent=2))"
   ]
  }
 ],
 "metadata": {
  "kernelspec": {
   "display_name": "Python 3 (ipykernel)",
   "language": "python",
   "name": "python3"
  },
  "language_info": {
   "codemirror_mode": {
    "name": "ipython",
    "version": 3
   },
   "file_extension": ".py",
   "mimetype": "text/x-python",
   "name": "python",
   "nbconvert_exporter": "python",
   "pygments_lexer": "ipython3",
   "version": "3.10.12"
  }
 },
 "nbformat": 4,
 "nbformat_minor": 4
}
