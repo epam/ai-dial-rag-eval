{
 "cells": [
  {
   "cell_type": "code",
   "execution_count": 1,
   "id": "9731009a-28ad-4344-9bc0-1383cd6de64b",
   "metadata": {
    "scrolled": true
   },
   "outputs": [],
   "source": [
    "# !pip install ../."
   ]
  },
  {
   "cell_type": "code",
   "execution_count": 1,
   "id": "10cebc4d-aaad-4ee2-8ceb-322241ccd699",
   "metadata": {},
   "outputs": [],
   "source": [
    "import pandas as pd\n",
    "import numpy as np"
   ]
  },
  {
   "cell_type": "code",
   "execution_count": 2,
   "id": "a5cf0644-f4a7-4a3e-807b-e6f05137514a",
   "metadata": {},
   "outputs": [],
   "source": [
    "import os\n",
    "from langchain_openai import AzureChatOpenAI"
   ]
  },
  {
   "cell_type": "code",
   "execution_count": 3,
   "id": "1daae830-ea94-463d-ad25-d3968c2f2f45",
   "metadata": {},
   "outputs": [],
   "source": [
    "azure_llm = AzureChatOpenAI(\n",
    "    azure_deployment=\"gemini-1.5-flash-001\",\n",
    "    api_version=\"2023-03-15-preview\",\n",
    "    max_tokens=1024,\n",
    "    timeout=600,\n",
    "    temperature=0,\n",
    "    seed=None,\n",
    ")"
   ]
  },
  {
   "cell_type": "code",
   "execution_count": 4,
   "id": "1fac376d-4190-4ffc-9f1d-0d8c6857ace9",
   "metadata": {},
   "outputs": [],
   "source": [
    "from s3fs.core import S3FileSystem\n",
    "\n",
    "os.environ[\"AWS_DEFAULT_PROFILE\"] = \"rtc\"\n",
    "os.environ[\"AWS_PROFILE\"] = \"rtc\"\n",
    "s3 = S3FileSystem(anon=False)"
   ]
  },
  {
   "cell_type": "code",
   "execution_count": 5,
   "id": "d3314292-e125-4cc2-ad29-08e2a0d4e50e",
   "metadata": {},
   "outputs": [],
   "source": [
    "import os\n",
    "\n",
    "ground_truth = \"s3://deltix-staging-dial-rag-eval/ground_truth/epam10k/ground_truth_v2.parquet\"\n",
    "answer_url = \"s3://deltix-staging-dial-rag-eval/answers/epam10k\"\n",
    "metrics_url = \"s3://deltix-staging-dial-rag-eval/evaluation/nli/tmp_to_check/\"\n",
    "fns = [\n",
    "    \"answers_azure_rag.parquet\",\n",
    "]"
   ]
  },
  {
   "cell_type": "code",
   "execution_count": 6,
   "id": "ad50ec33-ed51-403b-8df9-3921828bc3a8",
   "metadata": {},
   "outputs": [
    {
     "name": "stderr",
     "output_type": "stream",
     "text": [
      "/mnt/c/Users/Mikalai_Pechaneu/Work/dial-rag-eval/nli-branch-new/dial-rag-eval/src/aidial_rag_eval/generation/utils/progress_bar.py:5: TqdmWarning: IProgress not found. Please update jupyter and ipywidgets. See https://ipywidgets.readthedocs.io/en/stable/user_install.html\n",
      "  from tqdm.autonotebook import tqdm\n"
     ]
    }
   ],
   "source": [
    "from aidial_rag_eval import evaluate"
   ]
  },
  {
   "cell_type": "code",
   "execution_count": 26,
   "id": "6d30f842-555a-4ad1-b991-bce1b7e35f87",
   "metadata": {},
   "outputs": [],
   "source": [
    "from aidial_rag_eval.metric_binds import CONTEXT_TO_ANSWER_INFERENCE,\\\n",
    "    ANSWER_TO_GROUND_TRUTH_INFERENCE, GROUND_TRUTH_TO_ANSWER_INFERENCE, ANSWER_REFUSAL, GROUND_TRUTH_REFUSAL"
   ]
  },
  {
   "cell_type": "code",
   "execution_count": 27,
   "id": "14ad6dfa-2a95-487e-b44a-e9ccc935a0ef",
   "metadata": {},
   "outputs": [
    {
     "name": "stdout",
     "output_type": "stream",
     "text": [
      "Converting hypothesis...\n"
     ]
    },
    {
     "name": "stderr",
     "output_type": "stream",
     "text": [
      "100%|███████████████████████████████████████████████████████████████████████████████████| 13/13 [00:03<00:00,  3.83it/s]\n"
     ]
    },
    {
     "name": "stdout",
     "output_type": "stream",
     "text": [
      "Getting inference...\n"
     ]
    },
    {
     "name": "stderr",
     "output_type": "stream",
     "text": [
      "100%|███████████████████████████████████████████████████████████████████████████████████| 48/48 [00:11<00:00,  4.20it/s]\n"
     ]
    },
    {
     "name": "stdout",
     "output_type": "stream",
     "text": [
      "Converting hypothesis...\n"
     ]
    },
    {
     "name": "stderr",
     "output_type": "stream",
     "text": [
      "100%|███████████████████████████████████████████████████████████████████████████████████| 11/11 [00:03<00:00,  3.64it/s]\n"
     ]
    },
    {
     "name": "stdout",
     "output_type": "stream",
     "text": [
      "Getting inference...\n"
     ]
    },
    {
     "name": "stderr",
     "output_type": "stream",
     "text": [
      "100%|███████████████████████████████████████████████████████████████████████████████████| 57/57 [00:14<00:00,  4.02it/s]\n"
     ]
    },
    {
     "name": "stdout",
     "output_type": "stream",
     "text": [
      "Converting hypothesis...\n"
     ]
    },
    {
     "name": "stderr",
     "output_type": "stream",
     "text": [
      "100%|███████████████████████████████████████████████████████████████████████████████████| 13/13 [00:02<00:00,  5.10it/s]\n"
     ]
    },
    {
     "name": "stdout",
     "output_type": "stream",
     "text": [
      "Getting inference...\n"
     ]
    },
    {
     "name": "stderr",
     "output_type": "stream",
     "text": [
      "100%|███████████████████████████████████████████████████████████████████████████████████| 48/48 [00:10<00:00,  4.68it/s]\n"
     ]
    },
    {
     "name": "stdout",
     "output_type": "stream",
     "text": [
      "Getting refusal...\n"
     ]
    },
    {
     "name": "stderr",
     "output_type": "stream",
     "text": [
      "100%|█████████████████████████████████████████████████████████████████████████████████████| 3/3 [00:03<00:00,  1.32s/it]\n"
     ]
    },
    {
     "name": "stdout",
     "output_type": "stream",
     "text": [
      "Getting refusal...\n"
     ]
    },
    {
     "name": "stderr",
     "output_type": "stream",
     "text": [
      "100%|█████████████████████████████████████████████████████████████████████████████████████| 3/3 [00:00<00:00,  3.02it/s]\n"
     ]
    }
   ],
   "source": [
    "ret = evaluate(\n",
    "    ground_truth,\n",
    "    os.path.join(answer_url, fns[0]),\n",
    "    os.path.join(metrics_url, \"02_11_2025_\" + fns[0]),\n",
    "    llm=azure_llm.with_retry(stop_after_attempt=4),\n",
    "    metric_binds=[\n",
    "        CONTEXT_TO_ANSWER_INFERENCE,\n",
    "        ANSWER_TO_GROUND_TRUTH_INFERENCE,\n",
    "        GROUND_TRUTH_TO_ANSWER_INFERENCE,\n",
    "        ANSWER_REFUSAL,\n",
    "        GROUND_TRUTH_REFUSAL,\n",
    "    ],\n",
    "    fs=s3,\n",
    "    show_progress_bar=True,\n",
    ")"
   ]
  },
  {
   "cell_type": "code",
   "execution_count": 8,
   "id": "b2936808-80e2-40e5-ba24-a04658a11bcd",
   "metadata": {},
   "outputs": [
    {
     "data": {
      "text/html": [
       "<div>\n",
       "<style scoped>\n",
       "    .dataframe tbody tr th:only-of-type {\n",
       "        vertical-align: middle;\n",
       "    }\n",
       "\n",
       "    .dataframe tbody tr th {\n",
       "        vertical-align: top;\n",
       "    }\n",
       "\n",
       "    .dataframe thead th {\n",
       "        text-align: right;\n",
       "    }\n",
       "</style>\n",
       "<table border=\"1\" class=\"dataframe\">\n",
       "  <thead>\n",
       "    <tr style=\"text-align: right;\">\n",
       "      <th></th>\n",
       "      <th>question</th>\n",
       "      <th>answer</th>\n",
       "      <th>facts</th>\n",
       "      <th>documents</th>\n",
       "    </tr>\n",
       "  </thead>\n",
       "  <tbody>\n",
       "    <tr>\n",
       "      <th>0</th>\n",
       "      <td>Full legal name of the Company</td>\n",
       "      <td>EPAM SYSTEMS, INC.</td>\n",
       "      <td>[EPAM SYSTEMS, INC.\\n\\n(Exact name of registra...</td>\n",
       "      <td>[https://d18rn0p25nwr6d.cloudfront.net/CIK-000...</td>\n",
       "    </tr>\n",
       "    <tr>\n",
       "      <th>1</th>\n",
       "      <td>Address</td>\n",
       "      <td>42 University Drive, Suite 202, Newtown, Penns...</td>\n",
       "      <td>[41 University Drive, Suite 202, Newtown, Penn...</td>\n",
       "      <td>[https://d18rn0p25nwr6d.cloudfront.net/CIK-000...</td>\n",
       "    </tr>\n",
       "    <tr>\n",
       "      <th>2</th>\n",
       "      <td>Provide your corporate HQ location and geograp...</td>\n",
       "      <td>Corporate HQ location is in 41 University Driv...</td>\n",
       "      <td>[EPAM SYSTEMS, INC.\\n\\n(Exact name of registra...</td>\n",
       "      <td>[https://d18rn0p25nwr6d.cloudfront.net/CIK-000...</td>\n",
       "    </tr>\n",
       "    <tr>\n",
       "      <th>3</th>\n",
       "      <td>How many staff members/resources do you have a...</td>\n",
       "      <td>India is one of EPAM largest delivery location...</td>\n",
       "      <td>[Outside of Ukraine and Belarus, our largest d...</td>\n",
       "      <td>[https://d18rn0p25nwr6d.cloudfront.net/CIK-000...</td>\n",
       "    </tr>\n",
       "    <tr>\n",
       "      <th>4</th>\n",
       "      <td>Main Office Location (City, State and Country)</td>\n",
       "      <td>Our principal executive offices are located at...</td>\n",
       "      <td>[EPAM Systems, Inc. was incorporated in the St...</td>\n",
       "      <td>[https://d18rn0p25nwr6d.cloudfront.net/CIK-000...</td>\n",
       "    </tr>\n",
       "  </tbody>\n",
       "</table>\n",
       "</div>"
      ],
      "text/plain": [
       "                                            question  \\\n",
       "0                     Full legal name of the Company   \n",
       "1                                            Address   \n",
       "2  Provide your corporate HQ location and geograp...   \n",
       "3  How many staff members/resources do you have a...   \n",
       "4     Main Office Location (City, State and Country)   \n",
       "\n",
       "                                              answer  \\\n",
       "0                                 EPAM SYSTEMS, INC.   \n",
       "1  42 University Drive, Suite 202, Newtown, Penns...   \n",
       "2  Corporate HQ location is in 41 University Driv...   \n",
       "3  India is one of EPAM largest delivery location...   \n",
       "4  Our principal executive offices are located at...   \n",
       "\n",
       "                                               facts  \\\n",
       "0  [EPAM SYSTEMS, INC.\\n\\n(Exact name of registra...   \n",
       "1  [41 University Drive, Suite 202, Newtown, Penn...   \n",
       "2  [EPAM SYSTEMS, INC.\\n\\n(Exact name of registra...   \n",
       "3  [Outside of Ukraine and Belarus, our largest d...   \n",
       "4  [EPAM Systems, Inc. was incorporated in the St...   \n",
       "\n",
       "                                           documents  \n",
       "0  [https://d18rn0p25nwr6d.cloudfront.net/CIK-000...  \n",
       "1  [https://d18rn0p25nwr6d.cloudfront.net/CIK-000...  \n",
       "2  [https://d18rn0p25nwr6d.cloudfront.net/CIK-000...  \n",
       "3  [https://d18rn0p25nwr6d.cloudfront.net/CIK-000...  \n",
       "4  [https://d18rn0p25nwr6d.cloudfront.net/CIK-000...  "
      ]
     },
     "execution_count": 8,
     "metadata": {},
     "output_type": "execute_result"
    }
   ],
   "source": [
    "df_gt = pd.read_parquet(ground_truth, filesystem=s3)\n",
    "df_gt.head()"
   ]
  },
  {
   "cell_type": "code",
   "execution_count": 9,
   "id": "6c537591-0d3a-45d7-a263-eea579db0664",
   "metadata": {},
   "outputs": [
    {
     "data": {
      "text/html": [
       "<div>\n",
       "<style scoped>\n",
       "    .dataframe tbody tr th:only-of-type {\n",
       "        vertical-align: middle;\n",
       "    }\n",
       "\n",
       "    .dataframe tbody tr th {\n",
       "        vertical-align: top;\n",
       "    }\n",
       "\n",
       "    .dataframe thead th {\n",
       "        text-align: right;\n",
       "    }\n",
       "</style>\n",
       "<table border=\"1\" class=\"dataframe\">\n",
       "  <thead>\n",
       "    <tr style=\"text-align: right;\">\n",
       "      <th></th>\n",
       "      <th>question</th>\n",
       "      <th>answer</th>\n",
       "      <th>context</th>\n",
       "      <th>documents</th>\n",
       "    </tr>\n",
       "  </thead>\n",
       "  <tbody>\n",
       "    <tr>\n",
       "      <th>0</th>\n",
       "      <td>Full legal name of the Company</td>\n",
       "      <td>The full legal name of the company is EPAM Sys...</td>\n",
       "      <td>[Chief\\nAccounting Officer \\n\\n(principal acco...</td>\n",
       "      <td>[https://d18rn0p25nwr6d.cloudfront.net/CIK-000...</td>\n",
       "    </tr>\n",
       "    <tr>\n",
       "      <th>1</th>\n",
       "      <td>Address</td>\n",
       "      <td>The requested information is not available in ...</td>\n",
       "      <td>[]</td>\n",
       "      <td>[https://d18rn0p25nwr6d.cloudfront.net/CIK-000...</td>\n",
       "    </tr>\n",
       "    <tr>\n",
       "      <th>2</th>\n",
       "      <td>Provide your corporate HQ location and geograp...</td>\n",
       "      <td>EPAM Systems, Inc.'s corporate headquarters ar...</td>\n",
       "      <td>[may not be certain.\\nOur determination of tax...</td>\n",
       "      <td>[https://d18rn0p25nwr6d.cloudfront.net/CIK-000...</td>\n",
       "    </tr>\n",
       "    <tr>\n",
       "      <th>3</th>\n",
       "      <td>How many staff members/resources do you have a...</td>\n",
       "      <td>The requested information is not available in ...</td>\n",
       "      <td>[had approximately 59,300, 58,800, and 41,150 ...</td>\n",
       "      <td>[https://d18rn0p25nwr6d.cloudfront.net/CIK-000...</td>\n",
       "    </tr>\n",
       "    <tr>\n",
       "      <th>4</th>\n",
       "      <td>Main Office Location (City, State and Country)</td>\n",
       "      <td>The main office of EPAM Systems, Inc. is locat...</td>\n",
       "      <td>[or systems we develop for them. Our suppliers...</td>\n",
       "      <td>[https://d18rn0p25nwr6d.cloudfront.net/CIK-000...</td>\n",
       "    </tr>\n",
       "  </tbody>\n",
       "</table>\n",
       "</div>"
      ],
      "text/plain": [
       "                                            question  \\\n",
       "0                     Full legal name of the Company   \n",
       "1                                            Address   \n",
       "2  Provide your corporate HQ location and geograp...   \n",
       "3  How many staff members/resources do you have a...   \n",
       "4     Main Office Location (City, State and Country)   \n",
       "\n",
       "                                              answer  \\\n",
       "0  The full legal name of the company is EPAM Sys...   \n",
       "1  The requested information is not available in ...   \n",
       "2  EPAM Systems, Inc.'s corporate headquarters ar...   \n",
       "3  The requested information is not available in ...   \n",
       "4  The main office of EPAM Systems, Inc. is locat...   \n",
       "\n",
       "                                             context  \\\n",
       "0  [Chief\\nAccounting Officer \\n\\n(principal acco...   \n",
       "1                                                 []   \n",
       "2  [may not be certain.\\nOur determination of tax...   \n",
       "3  [had approximately 59,300, 58,800, and 41,150 ...   \n",
       "4  [or systems we develop for them. Our suppliers...   \n",
       "\n",
       "                                           documents  \n",
       "0  [https://d18rn0p25nwr6d.cloudfront.net/CIK-000...  \n",
       "1  [https://d18rn0p25nwr6d.cloudfront.net/CIK-000...  \n",
       "2  [https://d18rn0p25nwr6d.cloudfront.net/CIK-000...  \n",
       "3  [https://d18rn0p25nwr6d.cloudfront.net/CIK-000...  \n",
       "4  [https://d18rn0p25nwr6d.cloudfront.net/CIK-000...  "
      ]
     },
     "execution_count": 9,
     "metadata": {},
     "output_type": "execute_result"
    }
   ],
   "source": [
    "df_a = pd.read_parquet(os.path.join(answer_url, fns[0]), filesystem=s3)\n",
    "df_a.head()"
   ]
  },
  {
   "cell_type": "code",
   "execution_count": 10,
   "id": "c3849e0b-000d-46ee-803a-215465bf3ec3",
   "metadata": {},
   "outputs": [],
   "source": [
    "# df_metrics = pd.read_parquet(os.path.join(metrics_url, \"01_22_2025_\" + fns[0]), filesystem=s3)\n",
    "# df_metrics.head()"
   ]
  },
  {
   "cell_type": "code",
   "execution_count": 11,
   "id": "c6633466-d171-48dd-8d58-cd21a68918eb",
   "metadata": {},
   "outputs": [],
   "source": [
    "from aidial_rag_eval import create_rag_eval_metrics_report"
   ]
  },
  {
   "cell_type": "code",
   "execution_count": 12,
   "id": "16516272-381c-4a3e-af39-291650df3704",
   "metadata": {},
   "outputs": [
    {
     "name": "stdout",
     "output_type": "stream",
     "text": [
      "Converting hypothesis...\n"
     ]
    },
    {
     "name": "stderr",
     "output_type": "stream",
     "text": [
      "100%|███████████████████████████████████████████████████████████████████████████████████| 13/13 [00:03<00:00,  3.33it/s]\n"
     ]
    },
    {
     "name": "stdout",
     "output_type": "stream",
     "text": [
      "Getting inference...\n"
     ]
    },
    {
     "name": "stderr",
     "output_type": "stream",
     "text": [
      "100%|███████████████████████████████████████████████████████████████████████████████████| 48/48 [00:11<00:00,  4.33it/s]\n"
     ]
    }
   ],
   "source": [
    "df_metrics = create_rag_eval_metrics_report(\n",
    "    df_gt,\n",
    "    df_a,\n",
    "    llm=azure_llm.with_retry(stop_after_attempt=4),\n",
    "    metric_binds=[\n",
    "        GROUND_TRUTH_TO_ANSWER_INFERENCE\n",
    "    ],\n",
    "    show_progress_bar=True,\n",
    ")"
   ]
  },
  {
   "cell_type": "code",
   "execution_count": 13,
   "id": "36c03177-1007-444c-b34a-f3c6b69eaeb3",
   "metadata": {},
   "outputs": [
    {
     "data": {
      "text/html": [
       "<div>\n",
       "<style scoped>\n",
       "    .dataframe tbody tr th:only-of-type {\n",
       "        vertical-align: middle;\n",
       "    }\n",
       "\n",
       "    .dataframe tbody tr th {\n",
       "        vertical-align: top;\n",
       "    }\n",
       "\n",
       "    .dataframe thead th {\n",
       "        text-align: right;\n",
       "    }\n",
       "</style>\n",
       "<table border=\"1\" class=\"dataframe\">\n",
       "  <thead>\n",
       "    <tr style=\"text-align: right;\">\n",
       "      <th></th>\n",
       "      <th>question</th>\n",
       "      <th>ground_truth_answer</th>\n",
       "      <th>facts</th>\n",
       "      <th>documents</th>\n",
       "      <th>answer</th>\n",
       "      <th>context</th>\n",
       "      <th>facts_ranks</th>\n",
       "      <th>context_relevance</th>\n",
       "      <th>context_highlight</th>\n",
       "      <th>recall</th>\n",
       "      <th>precision</th>\n",
       "      <th>mrr</th>\n",
       "      <th>f1</th>\n",
       "      <th>gt_ans_inference</th>\n",
       "      <th>gt_ans_json</th>\n",
       "      <th>gt_ans_highlight</th>\n",
       "      <th>mean_inference</th>\n",
       "      <th>median_inference</th>\n",
       "    </tr>\n",
       "  </thead>\n",
       "  <tbody>\n",
       "    <tr>\n",
       "      <th>0</th>\n",
       "      <td>Full legal name of the Company</td>\n",
       "      <td>EPAM SYSTEMS, INC.</td>\n",
       "      <td>[EPAM SYSTEMS, INC.\\n\\n(Exact name of registra...</td>\n",
       "      <td>[https://d18rn0p25nwr6d.cloudfront.net/CIK-000...</td>\n",
       "      <td>The full legal name of the company is EPAM Sys...</td>\n",
       "      <td>[Chief\\nAccounting Officer \\n\\n(principal acco...</td>\n",
       "      <td>[-1]</td>\n",
       "      <td>[0, 0]</td>\n",
       "      <td>[{\"match\": [{\"text\": \"Chief\\nAccounting Office...</td>\n",
       "      <td>0.0</td>\n",
       "      <td>0.000000</td>\n",
       "      <td>0.000000</td>\n",
       "      <td>0.00</td>\n",
       "      <td>1.000</td>\n",
       "      <td>[{\"inference\": 1.0, \"hypothesis\": \"The full le...</td>\n",
       "      <td>{\"corpus\": [{\"text\": \"The full legal name of t...</td>\n",
       "      <td>1.000</td>\n",
       "      <td>1.000</td>\n",
       "    </tr>\n",
       "    <tr>\n",
       "      <th>1</th>\n",
       "      <td>Address</td>\n",
       "      <td>42 University Drive, Suite 202, Newtown, Penns...</td>\n",
       "      <td>[41 University Drive, Suite 202, Newtown, Penn...</td>\n",
       "      <td>[https://d18rn0p25nwr6d.cloudfront.net/CIK-000...</td>\n",
       "      <td>The requested information is not available in ...</td>\n",
       "      <td>[]</td>\n",
       "      <td>[-1]</td>\n",
       "      <td>[]</td>\n",
       "      <td>[]</td>\n",
       "      <td>0.0</td>\n",
       "      <td>0.000000</td>\n",
       "      <td>0.000000</td>\n",
       "      <td>0.00</td>\n",
       "      <td>0.000</td>\n",
       "      <td>[{\"inference\": 0.0, \"hypothesis\": \"The request...</td>\n",
       "      <td>{\"corpus\": [{\"text\": \"The requested informatio...</td>\n",
       "      <td>0.000</td>\n",
       "      <td>0.000</td>\n",
       "    </tr>\n",
       "    <tr>\n",
       "      <th>2</th>\n",
       "      <td>Provide your corporate HQ location and geograp...</td>\n",
       "      <td>Corporate HQ location is in 41 University Driv...</td>\n",
       "      <td>[EPAM SYSTEMS, INC.\\n\\n(Exact name of registra...</td>\n",
       "      <td>[https://d18rn0p25nwr6d.cloudfront.net/CIK-000...</td>\n",
       "      <td>EPAM Systems, Inc.'s corporate headquarters ar...</td>\n",
       "      <td>[may not be certain.\\nOur determination of tax...</td>\n",
       "      <td>[-1, -1]</td>\n",
       "      <td>[0, 0, 0, 0, 0, 0, 0]</td>\n",
       "      <td>[{\"match\": [{\"text\": \"may not be certain.\\nOur...</td>\n",
       "      <td>0.0</td>\n",
       "      <td>0.000000</td>\n",
       "      <td>0.000000</td>\n",
       "      <td>0.00</td>\n",
       "      <td>0.825</td>\n",
       "      <td>[{\"inference\": 1.0, \"hypothesis\": \"EPAM System...</td>\n",
       "      <td>{\"corpus\": [{\"text\": \"EPAM Systems, Inc.'s cor...</td>\n",
       "      <td>0.825</td>\n",
       "      <td>0.825</td>\n",
       "    </tr>\n",
       "    <tr>\n",
       "      <th>3</th>\n",
       "      <td>How many staff members/resources do you have a...</td>\n",
       "      <td>India is one of EPAM largest delivery location...</td>\n",
       "      <td>[Outside of Ukraine and Belarus, our largest d...</td>\n",
       "      <td>[https://d18rn0p25nwr6d.cloudfront.net/CIK-000...</td>\n",
       "      <td>The requested information is not available in ...</td>\n",
       "      <td>[had approximately 59,300, 58,800, and 41,150 ...</td>\n",
       "      <td>[2]</td>\n",
       "      <td>[0, 0, 1, 0]</td>\n",
       "      <td>[{\"match\": [{\"text\": \"had approximately 59,300...</td>\n",
       "      <td>1.0</td>\n",
       "      <td>0.250000</td>\n",
       "      <td>0.333333</td>\n",
       "      <td>0.40</td>\n",
       "      <td>0.250</td>\n",
       "      <td>[{\"inference\": 0.5, \"hypothesis\": \"The request...</td>\n",
       "      <td>{\"corpus\": [{\"text\": \"The requested informatio...</td>\n",
       "      <td>0.250</td>\n",
       "      <td>0.250</td>\n",
       "    </tr>\n",
       "    <tr>\n",
       "      <th>4</th>\n",
       "      <td>Main Office Location (City, State and Country)</td>\n",
       "      <td>Our principal executive offices are located at...</td>\n",
       "      <td>[EPAM Systems, Inc. was incorporated in the St...</td>\n",
       "      <td>[https://d18rn0p25nwr6d.cloudfront.net/CIK-000...</td>\n",
       "      <td>The main office of EPAM Systems, Inc. is locat...</td>\n",
       "      <td>[or systems we develop for them. Our suppliers...</td>\n",
       "      <td>[0]</td>\n",
       "      <td>[1, 0, 0, 0, 0, 0, 0]</td>\n",
       "      <td>[{\"match\": [{\"text\": \"or systems we develop fo...</td>\n",
       "      <td>1.0</td>\n",
       "      <td>0.142857</td>\n",
       "      <td>1.000000</td>\n",
       "      <td>0.25</td>\n",
       "      <td>1.000</td>\n",
       "      <td>[{\"inference\": 1.0, \"hypothesis\": \"The main of...</td>\n",
       "      <td>{\"corpus\": [{\"text\": \"The main office of EPAM ...</td>\n",
       "      <td>1.000</td>\n",
       "      <td>1.000</td>\n",
       "    </tr>\n",
       "  </tbody>\n",
       "</table>\n",
       "</div>"
      ],
      "text/plain": [
       "                                            question  \\\n",
       "0                     Full legal name of the Company   \n",
       "1                                            Address   \n",
       "2  Provide your corporate HQ location and geograp...   \n",
       "3  How many staff members/resources do you have a...   \n",
       "4     Main Office Location (City, State and Country)   \n",
       "\n",
       "                                 ground_truth_answer  \\\n",
       "0                                 EPAM SYSTEMS, INC.   \n",
       "1  42 University Drive, Suite 202, Newtown, Penns...   \n",
       "2  Corporate HQ location is in 41 University Driv...   \n",
       "3  India is one of EPAM largest delivery location...   \n",
       "4  Our principal executive offices are located at...   \n",
       "\n",
       "                                               facts  \\\n",
       "0  [EPAM SYSTEMS, INC.\\n\\n(Exact name of registra...   \n",
       "1  [41 University Drive, Suite 202, Newtown, Penn...   \n",
       "2  [EPAM SYSTEMS, INC.\\n\\n(Exact name of registra...   \n",
       "3  [Outside of Ukraine and Belarus, our largest d...   \n",
       "4  [EPAM Systems, Inc. was incorporated in the St...   \n",
       "\n",
       "                                           documents  \\\n",
       "0  [https://d18rn0p25nwr6d.cloudfront.net/CIK-000...   \n",
       "1  [https://d18rn0p25nwr6d.cloudfront.net/CIK-000...   \n",
       "2  [https://d18rn0p25nwr6d.cloudfront.net/CIK-000...   \n",
       "3  [https://d18rn0p25nwr6d.cloudfront.net/CIK-000...   \n",
       "4  [https://d18rn0p25nwr6d.cloudfront.net/CIK-000...   \n",
       "\n",
       "                                              answer  \\\n",
       "0  The full legal name of the company is EPAM Sys...   \n",
       "1  The requested information is not available in ...   \n",
       "2  EPAM Systems, Inc.'s corporate headquarters ar...   \n",
       "3  The requested information is not available in ...   \n",
       "4  The main office of EPAM Systems, Inc. is locat...   \n",
       "\n",
       "                                             context facts_ranks  \\\n",
       "0  [Chief\\nAccounting Officer \\n\\n(principal acco...        [-1]   \n",
       "1                                                 []        [-1]   \n",
       "2  [may not be certain.\\nOur determination of tax...    [-1, -1]   \n",
       "3  [had approximately 59,300, 58,800, and 41,150 ...         [2]   \n",
       "4  [or systems we develop for them. Our suppliers...         [0]   \n",
       "\n",
       "       context_relevance                                  context_highlight  \\\n",
       "0                 [0, 0]  [{\"match\": [{\"text\": \"Chief\\nAccounting Office...   \n",
       "1                     []                                                 []   \n",
       "2  [0, 0, 0, 0, 0, 0, 0]  [{\"match\": [{\"text\": \"may not be certain.\\nOur...   \n",
       "3           [0, 0, 1, 0]  [{\"match\": [{\"text\": \"had approximately 59,300...   \n",
       "4  [1, 0, 0, 0, 0, 0, 0]  [{\"match\": [{\"text\": \"or systems we develop fo...   \n",
       "\n",
       "   recall  precision       mrr    f1  gt_ans_inference  \\\n",
       "0     0.0   0.000000  0.000000  0.00             1.000   \n",
       "1     0.0   0.000000  0.000000  0.00             0.000   \n",
       "2     0.0   0.000000  0.000000  0.00             0.825   \n",
       "3     1.0   0.250000  0.333333  0.40             0.250   \n",
       "4     1.0   0.142857  1.000000  0.25             1.000   \n",
       "\n",
       "                                         gt_ans_json  \\\n",
       "0  [{\"inference\": 1.0, \"hypothesis\": \"The full le...   \n",
       "1  [{\"inference\": 0.0, \"hypothesis\": \"The request...   \n",
       "2  [{\"inference\": 1.0, \"hypothesis\": \"EPAM System...   \n",
       "3  [{\"inference\": 0.5, \"hypothesis\": \"The request...   \n",
       "4  [{\"inference\": 1.0, \"hypothesis\": \"The main of...   \n",
       "\n",
       "                                    gt_ans_highlight  mean_inference  \\\n",
       "0  {\"corpus\": [{\"text\": \"The full legal name of t...           1.000   \n",
       "1  {\"corpus\": [{\"text\": \"The requested informatio...           0.000   \n",
       "2  {\"corpus\": [{\"text\": \"EPAM Systems, Inc.'s cor...           0.825   \n",
       "3  {\"corpus\": [{\"text\": \"The requested informatio...           0.250   \n",
       "4  {\"corpus\": [{\"text\": \"The main office of EPAM ...           1.000   \n",
       "\n",
       "   median_inference  \n",
       "0             1.000  \n",
       "1             0.000  \n",
       "2             0.825  \n",
       "3             0.250  \n",
       "4             1.000  "
      ]
     },
     "execution_count": 13,
     "metadata": {},
     "output_type": "execute_result"
    }
   ],
   "source": [
    "df_metrics.head()"
   ]
  },
  {
   "cell_type": "code",
   "execution_count": 23,
   "id": "06575547-9e4d-43cf-8a36-af33e9a209ee",
   "metadata": {},
   "outputs": [],
   "source": [
    "from aidial_rag_eval.metrics import calculate_inference, calculate_batch_inference"
   ]
  },
  {
   "cell_type": "code",
   "execution_count": 24,
   "id": "a31083e1-ecb5-4dd0-b735-007b0a640b36",
   "metadata": {},
   "outputs": [
    {
     "data": {
      "text/plain": [
       "InferenceReturn(inference=0.0, json='[{\"inference\": 0.0, \"hypothesis\": \"I am not a smart person.\", \"premise\": [\"I am a smart person.\"], \"explanation\": \"[{\\\\\"fact\\\\\": \\\\\"I am not a smart person.\\\\\", \\\\\"explanation\\\\\": \\\\\"The premise states that the person is smart.\\\\\", \\\\\"tag\\\\\": \\\\\"CONT\\\\\"}]\"}]', highlight='{\"corpus\": [{\"text\": \"I am not a smart person.\", \"score\": -1.0, \"title\": 0.0}, {\"text\": \"\", \"score\": 0.0}]}')"
      ]
     },
     "execution_count": 24,
     "metadata": {},
     "output_type": "execute_result"
    }
   ],
   "source": [
    "ret = calculate_inference(\"I am a smart person.\", \"I am not a smart person.\", llm=azure_llm.with_retry(stop_after_attempt=4), show_progress_bar=False)\n",
    "ret"
   ]
  },
  {
   "cell_type": "code",
   "execution_count": 25,
   "id": "b6205d8b-956b-43fa-b649-84bf47bde479",
   "metadata": {},
   "outputs": [
    {
     "data": {
      "text/plain": [
       "[InferenceReturn(inference=0.0, json='[{\"inference\": 0.0, \"hypothesis\": \"I am not a smart person.\", \"premise\": [\"I am a smart person.\"], \"explanation\": \"[{\\\\\"fact\\\\\": \\\\\"I am not a smart person.\\\\\", \\\\\"explanation\\\\\": \\\\\"The premise states that the person is smart.\\\\\", \\\\\"tag\\\\\": \\\\\"CONT\\\\\"}]\"}]', highlight='{\"corpus\": [{\"text\": \"I am not a smart person.\", \"score\": -1.0, \"title\": 0.0}, {\"text\": \"\", \"score\": 0.0}]}'),\n",
       " InferenceReturn(inference=1.0, json='[{\"inference\": 1.0, \"hypothesis\": \"I am a smart person.\", \"premise\": [\"I am a smart person.\"], \"explanation\": \"[{\\\\\"fact\\\\\": \\\\\"I am a smart person.\\\\\", \\\\\"explanation\\\\\": \\\\\"The premise states that the speaker is a smart person.\\\\\", \\\\\"tag\\\\\": \\\\\"ENT\\\\\"}]\"}]', highlight='{\"corpus\": [{\"text\": \"I am a smart person.\", \"score\": 0.0, \"title\": 1.0}, {\"text\": \"\", \"score\": 0.0}]}')]"
      ]
     },
     "execution_count": 25,
     "metadata": {},
     "output_type": "execute_result"
    }
   ],
   "source": [
    "ret = calculate_batch_inference([\"I am a smart person.\", \"I am a smart person.\"], [\"I am not a smart person.\", \"I am a smart person.\"], llm=azure_llm.with_retry(stop_after_attempt=4), show_progress_bar=False)\n",
    "\n",
    "ret"
   ]
  },
  {
   "cell_type": "code",
   "execution_count": null,
   "id": "490ec83d-0cce-462d-9d7e-25927776f359",
   "metadata": {},
   "outputs": [],
   "source": []
  }
 ],
 "metadata": {
  "kernelspec": {
   "display_name": "Python 3 (ipykernel)",
   "language": "python",
   "name": "python3"
  },
  "language_info": {
   "codemirror_mode": {
    "name": "ipython",
    "version": 3
   },
   "file_extension": ".py",
   "mimetype": "text/x-python",
   "name": "python",
   "nbconvert_exporter": "python",
   "pygments_lexer": "ipython3",
   "version": "3.9.21"
  }
 },
 "nbformat": 4,
 "nbformat_minor": 5
}
