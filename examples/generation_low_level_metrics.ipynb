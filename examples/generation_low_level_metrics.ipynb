{
 "cells": [
  {
   "cell_type": "code",
   "execution_count": 3,
   "id": "cd5fed0b-455b-4b96-8a21-36f6f3f8b738",
   "metadata": {},
   "outputs": [],
   "source": [
    "from langchain_openai import ChatOpenAI\n",
    "from aidial_rag_eval.metrics import calculate_inference, calculate_batch_inference\n",
    "\n",
    "llm = ChatOpenAI(model=\"gpt-4o\")"
   ]
  },
  {
   "cell_type": "code",
   "execution_count": 5,
   "id": "2d1dbbd9-f6f3-439d-bed7-cca342599254",
   "metadata": {},
   "outputs": [
    {
     "data": {
      "text/plain": [
       "InferenceReturn(inference=1.0, json='[{\"inference\": 1.0, \"hypothesis\": \"George Washington was the first president of the United States.\", \"premise\": [\"George Washington was an American political leader, military general, statesman, and Founding Father who also served as the first President of the United States from 1789 to 1797.\"], \"explanation\": \"[{\\\\\"statement\\\\\": \\\\\"George Washington was the first president of the United States.\\\\\", \\\\\"explanation\\\\\": \\\\\"The premise explicitly states that George Washington served as the first President of the United States, therefore the statement is entailed by the premise.\\\\\", \\\\\"tag\\\\\": \\\\\"ENT\\\\\"}]\"}]', highlight='{\"corpus\": [{\"text\": \"George Washington was the first president of the United States.\", \"score\": 0.0, \"title\": 1.0}, {\"text\": \"\", \"score\": 0.0}]}')"
      ]
     },
     "execution_count": 5,
     "metadata": {},
     "output_type": "execute_result"
    }
   ],
   "source": [
    "inference = calculate_inference(\n",
    "    \"George Washington was an American political leader, military general, statesman, and Founding Father who also served as the first President of the United States from 1789 to 1797.\",\n",
    "    \"George Washington was the first president of the United States.\",\n",
    "    llm=llm.with_retry(stop_after_attempt=4),\n",
    "    show_progress_bar=False\n",
    ")\n",
    "inference"
   ]
  },
  {
   "cell_type": "code",
   "execution_count": 6,
   "id": "bbbab9cc-50ce-4bd5-94d2-286b08a2f33e",
   "metadata": {},
   "outputs": [
    {
     "data": {
      "text/plain": [
       "[InferenceReturn(inference=0.0, json='[{\"inference\": 0.0, \"hypothesis\": \"The capital city of Spain is Barcelona.\", \"premise\": [\"Barcelona is a city in Spain. It is the capital and largest city of the autonomous community of Catalonia.\"], \"explanation\": \"\"}]', highlight='{\"corpus\": [{\"text\": \"The capital city of Spain is Barcelona.\", \"score\": -1.0, \"title\": 0.0}, {\"text\": \"\", \"score\": 0.0}]}'),\n",
       " InferenceReturn(inference=0.0, json='[{\"inference\": 0.0, \"hypothesis\": \"The capital city of Spain is Madrid.\", \"premise\": [\"Madrid is a city of three million people.\"], \"explanation\": \"\"}]', highlight='{\"corpus\": [{\"text\": \"The capital city of Spain is Madrid.\", \"score\": -1.0, \"title\": 0.0}, {\"text\": \"\", \"score\": 0.0}]}')]"
      ]
     },
     "execution_count": 6,
     "metadata": {},
     "output_type": "execute_result"
    }
   ],
   "source": [
    "inferences = calculate_batch_inference(\n",
    "    [\n",
    "        \"Barcelona is a city in Spain. It is the capital and largest city of the autonomous community of Catalonia.\",\n",
    "        \"Madrid is a city of three million people.\"\n",
    "    ],\n",
    "    [\n",
    "        \"The capital city of Spain is Barcelona.\",\n",
    "        \"The capital city of Spain is Madrid.\"\n",
    "    ],\n",
    "    llm=llm.with_retry(stop_after_attempt=4),\n",
    "    show_progress_bar=False\n",
    ")\n",
    "inferences"
   ]
  }
 ],
 "metadata": {
  "kernelspec": {
   "display_name": "Python 3 (ipykernel)",
   "language": "python",
   "name": "python3"
  },
  "language_info": {
   "codemirror_mode": {
    "name": "ipython",
    "version": 3
   },
   "file_extension": ".py",
   "mimetype": "text/x-python",
   "name": "python",
   "nbconvert_exporter": "python",
   "pygments_lexer": "ipython3",
   "version": "3.10.12"
  }
 },
 "nbformat": 4,
 "nbformat_minor": 5
}
